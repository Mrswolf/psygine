{
 "cells": [
  {
   "cell_type": "code",
   "execution_count": 1,
   "id": "4b52b8a7-dc49-4298-8e64-2faa5986ecda",
   "metadata": {},
   "outputs": [],
   "source": [
    "from psygine.datasets.eeg import AlexMI, Beta\n",
    "from psygine.paradigms import MiEegParadigm, SsvepEegParadigm"
   ]
  },
  {
   "cell_type": "markdown",
   "id": "8c82fc07-6e26-47ef-9520-efc8dd08a185",
   "metadata": {},
   "source": [
    "## Process data with the default paradigm"
   ]
  },
  {
   "cell_type": "code",
   "execution_count": 2,
   "id": "483bb21e-b4ac-4db4-b2aa-6369dfde6c74",
   "metadata": {},
   "outputs": [],
   "source": [
    "dataset = AlexMI()\n",
    "paradigm = MiEegParadigm()"
   ]
  },
  {
   "cell_type": "code",
   "execution_count": 3,
   "id": "2258cb42-a1e0-4956-bb99-dd9420cb7681",
   "metadata": {},
   "outputs": [
    {
     "name": "stdout",
     "output_type": "stream",
     "text": [
      "Loading time: 2.7991s\n"
     ]
    }
   ],
   "source": [
    "X, y, meta = paradigm.get_data(\n",
    "    dataset,\n",
    "    subject_ids=None,\n",
    "    concat=True,\n",
    "    n_jobs=-1)"
   ]
  },
  {
   "cell_type": "code",
   "execution_count": 4,
   "id": "3fd026ae-673a-40c0-9763-beb101d54dc6",
   "metadata": {},
   "outputs": [
    {
     "name": "stdout",
     "output_type": "stream",
     "text": [
      "(480, 15, 1536) (480,)\n",
      "       subject    session    run  trial       event  event_id  dataset\n",
      "0    subject_0  session_0  run_0      1  right_hand         2  alexeeg\n",
      "1    subject_0  session_0  run_0      5  right_hand         2  alexeeg\n",
      "2    subject_0  session_0  run_0     11  right_hand         2  alexeeg\n",
      "3    subject_0  session_0  run_0     15  right_hand         2  alexeeg\n",
      "4    subject_0  session_0  run_0     19  right_hand         2  alexeeg\n",
      "..         ...        ...    ...    ...         ...       ...      ...\n",
      "475  subject_7  session_0  run_0     93        rest         1  alexeeg\n",
      "476  subject_7  session_0  run_0     97        rest         1  alexeeg\n",
      "477  subject_7  session_0  run_0    101        rest         1  alexeeg\n",
      "478  subject_7  session_0  run_0    107        rest         1  alexeeg\n",
      "479  subject_7  session_0  run_0    111        rest         1  alexeeg\n",
      "\n",
      "[480 rows x 7 columns]\n"
     ]
    }
   ],
   "source": [
    "print(X.shape, y.shape)\n",
    "print(meta)"
   ]
  },
  {
   "cell_type": "markdown",
   "id": "12ee9c7e-ebef-4631-a806-1848a08b7e3e",
   "metadata": {},
   "source": [
    "## Process data with avaliable parameters"
   ]
  },
  {
   "cell_type": "code",
   "execution_count": 5,
   "id": "cbb86064-93bd-43d8-bc5b-997b3aedf698",
   "metadata": {},
   "outputs": [],
   "source": [
    "dataset = Beta()\n",
    "paradigm = SsvepEegParadigm(\n",
    "    channels=['CPz', 'POz', 'Oz'],\n",
    "    events=['8.0/0.0', '15.6/1.0'],\n",
    "    intervals=[(0.14, 1.14)],\n",
    "    srate=256\n",
    ")"
   ]
  },
  {
   "cell_type": "code",
   "execution_count": 6,
   "id": "b58adbb5-70ae-4006-91ac-90800d00ddb7",
   "metadata": {},
   "outputs": [
    {
     "name": "stdout",
     "output_type": "stream",
     "text": [
      "Loading time: 1.8214s\n"
     ]
    }
   ],
   "source": [
    "X, y, meta = paradigm.get_data(\n",
    "    dataset,\n",
    "    subject_ids=[1, 2],\n",
    "    concat=True,\n",
    "    n_jobs=-1)"
   ]
  },
  {
   "cell_type": "code",
   "execution_count": 7,
   "id": "46020bf1-3b16-4240-86af-08b9affd82a4",
   "metadata": {},
   "outputs": [
    {
     "name": "stdout",
     "output_type": "stream",
     "text": [
      "(16, 3, 250) (16,)\n",
      "      subject    session    run  trial     event  event_id dataset\n",
      "0   subject_1  session_0  run_0     37   8.0/0.0         1    beta\n",
      "1   subject_1  session_0  run_1     37   8.0/0.0         1    beta\n",
      "2   subject_1  session_0  run_2     37   8.0/0.0         1    beta\n",
      "3   subject_1  session_0  run_3     37   8.0/0.0         1    beta\n",
      "4   subject_2  session_0  run_0     37   8.0/0.0         1    beta\n",
      "5   subject_2  session_0  run_1     37   8.0/0.0         1    beta\n",
      "6   subject_2  session_0  run_2     37   8.0/0.0         1    beta\n",
      "7   subject_2  session_0  run_3     37   8.0/0.0         1    beta\n",
      "8   subject_1  session_0  run_0     35  15.6/1.0         0    beta\n",
      "9   subject_1  session_0  run_1     35  15.6/1.0         0    beta\n",
      "10  subject_1  session_0  run_2     35  15.6/1.0         0    beta\n",
      "11  subject_1  session_0  run_3     35  15.6/1.0         0    beta\n",
      "12  subject_2  session_0  run_0     35  15.6/1.0         0    beta\n",
      "13  subject_2  session_0  run_1     35  15.6/1.0         0    beta\n",
      "14  subject_2  session_0  run_2     35  15.6/1.0         0    beta\n",
      "15  subject_2  session_0  run_3     35  15.6/1.0         0    beta\n"
     ]
    }
   ],
   "source": [
    "print(X.shape, y.shape)\n",
    "print(meta)"
   ]
  },
  {
   "cell_type": "code",
   "execution_count": null,
   "id": "fb3dd0a9-c04b-4e55-8556-85b33ba68187",
   "metadata": {},
   "outputs": [],
   "source": []
  }
 ],
 "metadata": {
  "kernelspec": {
   "display_name": "Python 3 (ipykernel)",
   "language": "python",
   "name": "python3"
  },
  "language_info": {
   "codemirror_mode": {
    "name": "ipython",
    "version": 3
   },
   "file_extension": ".py",
   "mimetype": "text/x-python",
   "name": "python",
   "nbconvert_exporter": "python",
   "pygments_lexer": "ipython3",
   "version": "3.10.15"
  }
 },
 "nbformat": 4,
 "nbformat_minor": 5
}
